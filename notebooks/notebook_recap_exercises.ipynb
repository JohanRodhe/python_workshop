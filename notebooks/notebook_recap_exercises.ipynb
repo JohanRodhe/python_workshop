{
 "cells": [
  {
   "cell_type": "markdown",
   "metadata": {},
   "source": [
    "# Exercises\n",
    "If you have the time, try these exercises. \n",
    "======\n",
    "\n",
    "## Exercise 1) Strings & Printing.\n",
    "\n",
    "First we want to recap printing out some text. As you saw earlier text is called __strings__.\n",
    "Let's save the strings **Jon** and **Snow** as two different variables so we can use them later."
   ]
  },
  {
   "cell_type": "code",
   "execution_count": 33,
   "metadata": {},
   "outputs": [
    {
     "ename": "NameError",
     "evalue": "name 'Snow' is not defined",
     "output_type": "error",
     "traceback": [
      "\u001b[1;31m---------------------------------------------------------------------------\u001b[0m",
      "\u001b[1;31mNameError\u001b[0m                                 Traceback (most recent call last)",
      "\u001b[1;32m<ipython-input-33-1a71030b300c>\u001b[0m in \u001b[0;36m<module>\u001b[1;34m()\u001b[0m\n\u001b[0;32m      1\u001b[0m \u001b[0mfirstname\u001b[0m \u001b[1;33m=\u001b[0m \u001b[1;34m'Jon'\u001b[0m\u001b[1;33m\u001b[0m\u001b[0m\n\u001b[1;32m----> 2\u001b[1;33m \u001b[0mlastname\u001b[0m \u001b[1;33m=\u001b[0m \u001b[0mSnow\u001b[0m\u001b[1;33m\u001b[0m\u001b[0m\n\u001b[0m",
      "\u001b[1;31mNameError\u001b[0m: name 'Snow' is not defined"
     ]
    }
   ],
   "source": [
    "firstname = 'Jon'\n",
    "lastname = Snow"
   ]
  },
  {
   "cell_type": "markdown",
   "metadata": {},
   "source": [
    "**The above code does not work because it contains an error.\n",
    "Why did it not work? \n",
    "Fix the code so that it works. Rerun the code to make sure there is no error message.**\n",
    "\n",
    "Now print the first and lastname using the saved variables. \n",
    "Don't forget the space in between."
   ]
  },
  {
   "cell_type": "code",
   "execution_count": 7,
   "metadata": {},
   "outputs": [
    {
     "name": "stdout",
     "output_type": "stream",
     "text": [
      "\n"
     ]
    }
   ],
   "source": [
    "print()"
   ]
  },
  {
   "cell_type": "markdown",
   "metadata": {},
   "source": [
    "Now let's make a function that takes a first and lastname, replaces the first name with \"Dr. \" and returns the new name. "
   ]
  },
  {
   "cell_type": "code",
   "execution_count": 38,
   "metadata": {},
   "outputs": [],
   "source": [
    "def doctorate(firstname, lastname):\n",
    "    # Add your code here\n",
    "    #\n",
    "    return(new_name)"
   ]
  },
  {
   "cell_type": "code",
   "execution_count": 39,
   "metadata": {},
   "outputs": [
    {
     "ename": "NameError",
     "evalue": "name 'new_name' is not defined",
     "output_type": "error",
     "traceback": [
      "\u001b[1;31m---------------------------------------------------------------------------\u001b[0m",
      "\u001b[1;31mNameError\u001b[0m                                 Traceback (most recent call last)",
      "\u001b[1;32m<ipython-input-39-6bea9a18fe0a>\u001b[0m in \u001b[0;36m<module>\u001b[1;34m()\u001b[0m\n\u001b[1;32m----> 1\u001b[1;33m \u001b[0mprint\u001b[0m\u001b[1;33m(\u001b[0m\u001b[0mdoctorate\u001b[0m\u001b[1;33m(\u001b[0m\u001b[0mfirstname\u001b[0m\u001b[1;33m,\u001b[0m \u001b[0mlastname\u001b[0m\u001b[1;33m)\u001b[0m\u001b[1;33m)\u001b[0m\u001b[1;33m\u001b[0m\u001b[0m\n\u001b[0m",
      "\u001b[1;32m<ipython-input-38-c52479a6264c>\u001b[0m in \u001b[0;36mdoctorate\u001b[1;34m(firstname, lastname)\u001b[0m\n\u001b[0;32m      2\u001b[0m     \u001b[1;31m# Add your code here\u001b[0m\u001b[1;33m\u001b[0m\u001b[1;33m\u001b[0m\u001b[0m\n\u001b[0;32m      3\u001b[0m     \u001b[1;31m#\u001b[0m\u001b[1;33m\u001b[0m\u001b[1;33m\u001b[0m\u001b[0m\n\u001b[1;32m----> 4\u001b[1;33m     \u001b[1;32mreturn\u001b[0m\u001b[1;33m(\u001b[0m\u001b[0mnew_name\u001b[0m\u001b[1;33m)\u001b[0m\u001b[1;33m\u001b[0m\u001b[0m\n\u001b[0m",
      "\u001b[1;31mNameError\u001b[0m: name 'new_name' is not defined"
     ]
    }
   ],
   "source": [
    "print(doctorate(firstname, lastname))"
   ]
  },
  {
   "cell_type": "markdown",
   "metadata": {},
   "source": [
    "## Now let's do something a little bit harder..\n",
    "We want to remake the doctorate function we wrote above. But this time it takes the full name as one input variable.\n",
    "First make a new variable that contains the full name. Again, don't forget the space. "
   ]
  },
  {
   "cell_type": "code",
   "execution_count": 46,
   "metadata": {
    "scrolled": true
   },
   "outputs": [],
   "source": [
    "fullname = \"\" # Add code here"
   ]
  },
  {
   "cell_type": "markdown",
   "metadata": {},
   "source": [
    "Python has many handy built in functions, one of these is the **find** function.\n",
    "It can be used to find a character in a string.<br>\n",
    "Example:"
   ]
  },
  {
   "cell_type": "code",
   "execution_count": 40,
   "metadata": {},
   "outputs": [
    {
     "name": "stdout",
     "output_type": "stream",
     "text": [
      "0\n"
     ]
    }
   ],
   "source": [
    "index = fullname.find(\"J\")\n",
    "print(index)"
   ]
  },
  {
   "cell_type": "markdown",
   "metadata": {},
   "source": [
    "Now fill in the function below. It should take a full name (like \"Jon Snow\") and return the last name with \"Dr.\" before.<br>\n",
    "Hint: use the find function to find the space between the names and the colon operator to extract the last name"
   ]
  },
  {
   "cell_type": "code",
   "execution_count": 36,
   "metadata": {},
   "outputs": [],
   "source": [
    "def smarter_doctorate(fullname):\n",
    "    # Add your code here\n",
    "    #\n",
    "    return"
   ]
  },
  {
   "cell_type": "code",
   "execution_count": 41,
   "metadata": {},
   "outputs": [
    {
     "name": "stdout",
     "output_type": "stream",
     "text": [
      "None\n",
      "None\n"
     ]
    }
   ],
   "source": [
    "print(smarter_doctorate(fullname))\n",
    "print(smarter_doctorate(\"\")) # try it with some other names!"
   ]
  },
  {
   "cell_type": "markdown",
   "metadata": {},
   "source": [
    "## Exercise 2) Arithmetics\n",
    "To practice arithmetics we will do some basic geometry functions.\n",
    "Make a function that calculates the surface area of a circle."
   ]
  },
  {
   "cell_type": "code",
   "execution_count": 50,
   "metadata": {},
   "outputs": [],
   "source": [
    "def circle_area(radius):\n",
    "    # Add code here\n",
    "    return"
   ]
  },
  {
   "cell_type": "code",
   "execution_count": null,
   "metadata": {},
   "outputs": [],
   "source": [
    "# Test your function\n",
    "print(circle_area(4))\n",
    "print()"
   ]
  },
  {
   "cell_type": "markdown",
   "metadata": {},
   "source": [
    "### Now make a function that calculates the volume of a cylinder. \n",
    "The volume of a cylinder is calculated by multiplying the surface area of the circle with the height of the cylinder. Use the function you wrote above to calculate the circle area."
   ]
  },
  {
   "cell_type": "code",
   "execution_count": 53,
   "metadata": {},
   "outputs": [
    {
     "name": "stdout",
     "output_type": "stream",
     "text": [
      "\n"
     ]
    }
   ],
   "source": [
    "def cylinder_volume(radius, height):\n",
    "    # Call your circle_area function\n",
    "    return\n",
    "print()"
   ]
  },
  {
   "cell_type": "markdown",
   "metadata": {},
   "source": [
    "## Mixing numbers and strings\n",
    "Let's combine some arithmetic with our knowledge about strings.\n",
    "\n",
    "The code below contains some errors. Fix them!"
   ]
  },
  {
   "cell_type": "code",
   "execution_count": 55,
   "metadata": {},
   "outputs": [
    {
     "ename": "TypeError",
     "evalue": "unsupported operand type(s) for +: 'int' and 'str'",
     "output_type": "error",
     "traceback": [
      "\u001b[1;31m---------------------------------------------------------------------------\u001b[0m",
      "\u001b[1;31mTypeError\u001b[0m                                 Traceback (most recent call last)",
      "\u001b[1;32m<ipython-input-55-6df91e1fee3d>\u001b[0m in \u001b[0;36m<module>\u001b[1;34m()\u001b[0m\n\u001b[0;32m      2\u001b[0m \u001b[0mheight\u001b[0m \u001b[1;33m=\u001b[0m \u001b[1;34m\"3\"\u001b[0m\u001b[1;33m\u001b[0m\u001b[0m\n\u001b[0;32m      3\u001b[0m \u001b[0marea\u001b[0m \u001b[1;33m=\u001b[0m \u001b[0mcircle_area\u001b[0m\u001b[1;33m(\u001b[0m\u001b[0mradius\u001b[0m\u001b[1;33m)\u001b[0m\u001b[1;33m\u001b[0m\u001b[0m\n\u001b[1;32m----> 4\u001b[1;33m \u001b[0mvolume\u001b[0m \u001b[1;33m=\u001b[0m \u001b[0mcylinder_volume\u001b[0m\u001b[1;33m(\u001b[0m\u001b[0mradius\u001b[0m\u001b[1;33m,\u001b[0m \u001b[0mheight\u001b[0m\u001b[1;33m)\u001b[0m\u001b[1;33m\u001b[0m\u001b[0m\n\u001b[0m\u001b[0;32m      5\u001b[0m \u001b[0mprint\u001b[0m\u001b[1;33m(\u001b[0m\u001b[1;34m\"The circle's area is \"\u001b[0m \u001b[1;33m+\u001b[0m \u001b[0marea\u001b[0m \u001b[1;33m+\u001b[0m \u001b[1;34m\" and the cylinder's volume is \"\u001b[0m \u001b[1;33m+\u001b[0m \u001b[0mvolume\u001b[0m\u001b[1;33m)\u001b[0m\u001b[1;33m\u001b[0m\u001b[0m\n",
      "\u001b[1;32m<ipython-input-53-2dc5831c2afa>\u001b[0m in \u001b[0;36mcylinder_volume\u001b[1;34m(radius, height)\u001b[0m\n\u001b[0;32m      1\u001b[0m \u001b[1;32mdef\u001b[0m \u001b[0mcylinder_volume\u001b[0m\u001b[1;33m(\u001b[0m\u001b[0mradius\u001b[0m\u001b[1;33m,\u001b[0m \u001b[0mheight\u001b[0m\u001b[1;33m)\u001b[0m\u001b[1;33m:\u001b[0m\u001b[1;33m\u001b[0m\u001b[0m\n\u001b[1;32m----> 2\u001b[1;33m     \u001b[1;32mreturn\u001b[0m \u001b[0mradius\u001b[0m \u001b[1;33m+\u001b[0m \u001b[0mheight\u001b[0m\u001b[1;33m\u001b[0m\u001b[0m\n\u001b[0m\u001b[0;32m      3\u001b[0m \u001b[0mprint\u001b[0m\u001b[1;33m(\u001b[0m\u001b[1;33m)\u001b[0m\u001b[1;33m\u001b[0m\u001b[0m\n",
      "\u001b[1;31mTypeError\u001b[0m: unsupported operand type(s) for +: 'int' and 'str'"
     ]
    }
   ],
   "source": [
    "radius = 2\n",
    "height = \"3\"\n",
    "area = circle_area(radius)\n",
    "volume = cylinder_volume(radius, height)\n",
    "print(\"The circle's area is \" + area + \" and the cylinder's volume is \" + volume)\n"
   ]
  },
  {
   "cell_type": "markdown",
   "metadata": {},
   "source": [
    "### Some more mixing with numbers and strings\n",
    "\n",
    "Given two sample DNA strings print out the length of each string as well as the combined length. The output should be on the format:\n",
    "\n",
    "\"DNA1 has $x$ nucleotides, DNA2 has $y$ nucleotides. In total they contain $z$ nucleotides.\"\n",
    "\n",
    "where $x,y,z$ are replaced by the lengths."
   ]
  },
  {
   "cell_type": "code",
   "execution_count": 59,
   "metadata": {},
   "outputs": [
    {
     "name": "stdout",
     "output_type": "stream",
     "text": [
      "DNA1 has 17 nucleotides, DNA2 has 14 nucleotides. In total they contain 31 nucleotides\n"
     ]
    }
   ],
   "source": [
    "dna1 = \"CTGACTGCAACGGGCAA\"\n",
    "dna2 = \"CTGTGTGGATTAAA\""
   ]
  },
  {
   "cell_type": "markdown",
   "metadata": {},
   "source": [
    "## Exercise 3) Logic statements\n",
    "\n",
    "An if statement will run some code depending on the logic statement inside.\n"
   ]
  },
  {
   "cell_type": "code",
   "execution_count": 62,
   "metadata": {},
   "outputs": [
    {
     "name": "stdout",
     "output_type": "stream",
     "text": [
      "Two is greater than one\n"
     ]
    }
   ],
   "source": [
    "if (2 > 1):\n",
    "    print(\"Two is greater than one\") # this line is run if the logic statement is true\n",
    "else:\n",
    "    print(\"Two is not greater than one\") # this line is run if the logic statement is false"
   ]
  },
  {
   "cell_type": "markdown",
   "metadata": {},
   "source": [
    "Use your knowledge of if statements and logic statements to create a function that takes two DNA strings and returns the longer one"
   ]
  },
  {
   "cell_type": "code",
   "execution_count": 67,
   "metadata": {},
   "outputs": [
    {
     "ename": "IndentationError",
     "evalue": "expected an indented block (<ipython-input-67-1e32b1a64eaa>, line 6)",
     "output_type": "error",
     "traceback": [
      "\u001b[1;36m  File \u001b[1;32m\"<ipython-input-67-1e32b1a64eaa>\"\u001b[1;36m, line \u001b[1;32m6\u001b[0m\n\u001b[1;33m    long = longer_string(dna1, dna2)\u001b[0m\n\u001b[1;37m       ^\u001b[0m\n\u001b[1;31mIndentationError\u001b[0m\u001b[1;31m:\u001b[0m expected an indented block\n"
     ]
    }
   ],
   "source": [
    "def longer_string():\n",
    "    # complete the function\n",
    "    #\n",
    "    #\n",
    "    \n",
    "long = longer_string(dna1, dna2)\n",
    "print(long)"
   ]
  },
  {
   "cell_type": "markdown",
   "metadata": {},
   "source": [
    "## Exercise 4) Lists\n",
    "\n",
    "A list is multiple variables in a sequence. In python lists are created with the [ ] operator."
   ]
  },
  {
   "cell_type": "code",
   "execution_count": 69,
   "metadata": {},
   "outputs": [
    {
     "name": "stdout",
     "output_type": "stream",
     "text": [
      "Drogon\n"
     ]
    }
   ],
   "source": [
    "empty = [] # creates an empty list\n",
    "dragons = [\"Drogon\", \"Rhaegal\"] # creates a list with two strings\n",
    "dragons.append(\"Viserion\") # adds a string to the end of the list\n",
    "print(dragons[0]) # print the first dragon's name"
   ]
  },
  {
   "cell_type": "markdown",
   "metadata": {},
   "source": [
    "To repeat some functions that manipulates lists, write some code that removes the \"a\" from the numbers list below and inserts it into the letters list. And do the same thing with the 3.\n",
    "\n",
    "The lists should be [1, 2, 3] and [\"a\", \"b\", \"c\"] when you are done.\n",
    "\n",
    "Hint: The **insert(index, item)** function can insert an item into a list at a given index. The **remove(item)** function removes an item from a list."
   ]
  },
  {
   "cell_type": "code",
   "execution_count": 83,
   "metadata": {},
   "outputs": [],
   "source": [
    "numbers = [1, 2, \"a\"]\n",
    "letters = [\"b\", \"c\", 3]\n",
    "\n",
    "# Add your code here\n",
    "# \n",
    "# \n",
    "# \n",
    "# \n"
   ]
  },
  {
   "cell_type": "markdown",
   "metadata": {},
   "source": [
    "## Exercise 5) For loops\n",
    "\n",
    "A for loop will run a block of code some amount of times."
   ]
  },
  {
   "cell_type": "code",
   "execution_count": 84,
   "metadata": {},
   "outputs": [
    {
     "name": "stdout",
     "output_type": "stream",
     "text": [
      "0\n",
      "1\n",
      "2\n",
      "3\n",
      "4\n",
      "5\n",
      "6\n",
      "7\n",
      "8\n",
      "9\n"
     ]
    }
   ],
   "source": [
    "for i in range(0, 10):\n",
    "    print(i)"
   ]
  },
  {
   "cell_type": "markdown",
   "metadata": {},
   "source": [
    "Now make your own for loop. Given a list of numbers multiply each by $2$. "
   ]
  },
  {
   "cell_type": "code",
   "execution_count": 95,
   "metadata": {},
   "outputs": [
    {
     "name": "stdout",
     "output_type": "stream",
     "text": [
      "[1, 3, 5, 9]\n"
     ]
    }
   ],
   "source": [
    "numbers = [1, 3, 5, 9]\n",
    "\n",
    "def mul(nrs):\n",
    "    # Add for loop here\n",
    "    #\n",
    "    #\n",
    "    return nrs\n",
    "\n",
    "print(mul(numbers))"
   ]
  },
  {
   "cell_type": "markdown",
   "metadata": {},
   "source": [
    "Lists become very useful when used in combination with loops.\n",
    "\n",
    "Let's go back to our DNA strings, strings are actually just a list of characters and can be used with a for loop to go over each character.\n",
    "\n",
    "Write a function that takes a string and returns the number of A's.\n",
    "\n",
    "Hint: **for c in s:** will loop over the string **s**, you can access each character with the variable __c__ inside the loop."
   ]
  },
  {
   "cell_type": "code",
   "execution_count": 92,
   "metadata": {},
   "outputs": [
    {
     "name": "stdout",
     "output_type": "stream",
     "text": [
      "0\n",
      "0\n",
      "0\n"
     ]
    }
   ],
   "source": [
    "def count_a(dna):\n",
    "    count = 0\n",
    "    # Add a for loop here\n",
    "    return count\n",
    "\n",
    "\n",
    "print(count_a(\"AGTC\")) # should print 1\n",
    "print(count_a(\"TGCTGCTGC\")) # should print 0\n",
    "print(count_a(\"AAATCGCCCTAAAAATCGCTATAAAGCTTCGCTATGCGCGCGCGCA\")) # should print 14"
   ]
  },
  {
   "cell_type": "markdown",
   "metadata": {},
   "source": [
    "## Exercise 6) Dictionaries\n",
    "\n",
    "A dictionary can be used to map *keys* to *values*.\n",
    "\n",
    "Example:"
   ]
  },
  {
   "cell_type": "code",
   "execution_count": 101,
   "metadata": {},
   "outputs": [],
   "source": [
    "city_populations = {\n",
    "    \"Malmoe\" : 312012,\n",
    "    \"Gothenburg\" : 572779,\n",
    "    \"Lund\" : 91086,\n",
    "    \"Kiruna\" : 18148,\n",
    "    \"Visby\" : 24330\n",
    "}"
   ]
  },
  {
   "cell_type": "markdown",
   "metadata": {},
   "source": [
    "A for loop can be used to iterate over the *keys* in a dictionary.\n",
    "\n",
    "Example:"
   ]
  },
  {
   "cell_type": "code",
   "execution_count": 102,
   "metadata": {},
   "outputs": [
    {
     "name": "stdout",
     "output_type": "stream",
     "text": [
      "Malmoe 312012\n",
      "Gothenburg 572779\n",
      "Lund 91086\n",
      "Kiruna 18148\n",
      "Visby 24330\n"
     ]
    }
   ],
   "source": [
    "for key in city_populations:\n",
    "    print(key + \" \" + str(city_populations[key]))"
   ]
  },
  {
   "cell_type": "markdown",
   "metadata": {},
   "source": [
    "Write a function that calculates the total population of the cities, and one function that calculates the average population."
   ]
  },
  {
   "cell_type": "code",
   "execution_count": null,
   "metadata": {},
   "outputs": [],
   "source": [
    "def total_population(populations):\n",
    "    return\n",
    "\n",
    "def average_population(populations):\n",
    "    return\n",
    "\n",
    "print(total_population(city_populations))\n",
    "print(average_population(city_populations))"
   ]
  },
  {
   "cell_type": "markdown",
   "metadata": {},
   "source": [
    "## Bonus Exercises"
   ]
  },
  {
   "cell_type": "markdown",
   "metadata": {},
   "source": [
    "**Triangle of stars**\n",
    "\n",
    "Draw the triangle below\n",
    "\n",
    "Hint: Use two for loops"
   ]
  },
  {
   "cell_type": "code",
   "execution_count": 108,
   "metadata": {},
   "outputs": [],
   "source": [
    "# *\n",
    "# **\n",
    "# ***\n",
    "# ****\n",
    "# *****\n",
    "# ******\n",
    "# *******\n",
    "# ********\n",
    "# *********"
   ]
  },
  {
   "cell_type": "markdown",
   "metadata": {},
   "source": [
    "**Fizz buzz**\n",
    "\n",
    "https://en.wikipedia.org/wiki/Fizz_buzz\n",
    "\n",
    "Fizz buzz is a group word game for children to teach them about division. Players take turns to count incrementally, replacing any number divisible by three with the word \"fizz\", and any number divisible by five with the word \"buzz\".\n",
    "\n",
    "Example:\n",
    "\n",
    "1, 2, Fizz, 4, Buzz, Fizz, 7, 8, Fizz, Buzz, 11, Fizz, 13, 14, Fizz Buzz, 16, 17, Fizz, 19, Buzz, Fizz, 22, 23, Fizz, Buzz, 26, Fizz, 28, 29, Fizz Buzz, 31, 32, Fizz, 34, Buzz, Fizz, ..."
   ]
  }
 ],
 "metadata": {
  "kernelspec": {
   "display_name": "Python 3",
   "language": "python",
   "name": "python3"
  },
  "language_info": {
   "codemirror_mode": {
    "name": "ipython",
    "version": 3
   },
   "file_extension": ".py",
   "mimetype": "text/x-python",
   "name": "python",
   "nbconvert_exporter": "python",
   "pygments_lexer": "ipython3",
   "version": "3.7.0"
  }
 },
 "nbformat": 4,
 "nbformat_minor": 2
}
