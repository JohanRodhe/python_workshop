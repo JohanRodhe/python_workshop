{
 "cells": [
  {
   "cell_type": "markdown",
   "metadata": {},
   "source": [
    "# File operations"
   ]
  },
  {
   "cell_type": "code",
   "execution_count": 10,
   "metadata": {},
   "outputs": [],
   "source": [
    "message = \"\"\"Please, you take him outside now.\n",
    "I should.\n",
    "Afterwards we entered some offbeat museum excitedly.\n",
    "\"\"\""
   ]
  },
  {
   "cell_type": "code",
   "execution_count": 11,
   "metadata": {},
   "outputs": [],
   "source": [
    "with open('../data/test_text.txt', 'w') as file:\n",
    "    file.write(message)"
   ]
  },
  {
   "cell_type": "code",
   "execution_count": 12,
   "metadata": {},
   "outputs": [
    {
     "name": "stdout",
     "output_type": "stream",
     "text": [
      "Please, you take him outside now.\n",
      "\n",
      "I should.\n",
      "\n",
      "Afterwards we entered some offbeat museum excitedly.\n",
      "\n"
     ]
    }
   ],
   "source": [
    "with open('../data/test_text.txt', 'r') as file:\n",
    "    for line in file:\n",
    "        print (line)"
   ]
  },
  {
   "cell_type": "code",
   "execution_count": 13,
   "metadata": {},
   "outputs": [
    {
     "name": "stdout",
     "output_type": "stream",
     "text": [
      "['Please,', 'you', 'take', 'him', 'outside', 'now.\\n']\n",
      "['I', 'should.\\n']\n",
      "['Afterwards', 'we', 'entered', 'some', 'offbeat', 'museum', 'excitedly.\\n']\n"
     ]
    }
   ],
   "source": [
    "with open('../data/test_text.txt', 'r') as file:\n",
    "    for line in file:\n",
    "        print (line.split(' '))"
   ]
  },
  {
   "cell_type": "code",
   "execution_count": 14,
   "metadata": {},
   "outputs": [
    {
     "name": "stdout",
     "output_type": "stream",
     "text": [
      "Please, you take him outside now.\n",
      "I should.\n",
      "Afterwards we entered some offbeat museum excitedly.\n"
     ]
    }
   ],
   "source": [
    "with open('../data/test_text.txt', 'r') as file:\n",
    "    for line in file:\n",
    "        print (line.rstrip('\\n'))"
   ]
  },
  {
   "cell_type": "code",
   "execution_count": 18,
   "metadata": {},
   "outputs": [
    {
     "name": "stdout",
     "output_type": "stream",
     "text": [
      "Please,\n",
      "you\n",
      "take\n",
      "him\n",
      "outside\n",
      "now.\n",
      "I\n",
      "should.\n",
      "Afterwards\n",
      "we\n",
      "entered\n",
      "some\n",
      "offbeat\n",
      "museum\n",
      "excitedly.\n"
     ]
    }
   ],
   "source": [
    "with open('../data/test_text.txt', 'r') as file:\n",
    "    for line in file:\n",
    "        words = line.rstrip('\\n').split(' ')\n",
    "        for i in words:\n",
    "            print (i)"
   ]
  },
  {
   "cell_type": "code",
   "execution_count": 20,
   "metadata": {},
   "outputs": [
    {
     "name": "stdout",
     "output_type": "stream",
     "text": [
      "P\n",
      "y\n",
      "t\n",
      "h\n",
      "o\n",
      "n\n",
      "\n",
      "I\n",
      "s\n",
      "\n",
      "A\n",
      "w\n",
      "e\n",
      "s\n",
      "o\n",
      "m\n",
      "e\n",
      "\n"
     ]
    }
   ],
   "source": [
    "with open('../data/test_text.txt', 'r') as file:\n",
    "    for line in file:\n",
    "        words = line.rstrip('\\n').split(' ')\n",
    "        for i in words:\n",
    "            print (i[0])\n",
    "        print ()"
   ]
  },
  {
   "cell_type": "code",
   "execution_count": 22,
   "metadata": {},
   "outputs": [
    {
     "name": "stdout",
     "output_type": "stream",
     "text": [
      "['P', 'y', 't', 'h', 'o', 'n']\n",
      "['I', 's']\n",
      "['A', 'w', 'e', 's', 'o', 'm', 'e']\n"
     ]
    }
   ],
   "source": [
    "with open('../data/test_text.txt', 'r') as file:\n",
    "    for line in file:\n",
    "        words = line.rstrip('\\n').split(' ')\n",
    "        new_word = []\n",
    "        for i in words:\n",
    "            new_word.append(i[0])\n",
    "        print (new_word)"
   ]
  },
  {
   "cell_type": "code",
   "execution_count": 23,
   "metadata": {},
   "outputs": [
    {
     "name": "stdout",
     "output_type": "stream",
     "text": [
      "Python\n",
      "Is\n",
      "Awesome\n"
     ]
    }
   ],
   "source": [
    "with open('../data/test_text.txt', 'r') as file:\n",
    "    for line in file:\n",
    "        words = line.rstrip('\\n').split(' ')\n",
    "        new_word = []\n",
    "        for i in words:\n",
    "            new_word.append(i[0])\n",
    "        print (''.join(new_word))"
   ]
  },
  {
   "cell_type": "code",
   "execution_count": 33,
   "metadata": {},
   "outputs": [
    {
     "name": "stdout",
     "output_type": "stream",
     "text": [
      "['Python', 'Is', 'Awesome']\n"
     ]
    }
   ],
   "source": [
    "new_sentence = []\n",
    "with open('../data/test_text.txt', 'r') as file:\n",
    "    for line in file:\n",
    "        words = line.rstrip('\\n').split(' ')\n",
    "        new_word = []\n",
    "        for i in words:\n",
    "            new_word.append(i[0])\n",
    "        new_sentence.append(''.join(new_word))\n",
    "print (new_sentence)"
   ]
  },
  {
   "cell_type": "code",
   "execution_count": 24,
   "metadata": {},
   "outputs": [
    {
     "name": "stdout",
     "output_type": "stream",
     "text": [
      "Python Is Awesome\n"
     ]
    }
   ],
   "source": [
    "new_sentence = []\n",
    "with open('../data/test_text.txt', 'r') as file:\n",
    "    for line in file:\n",
    "        words = line.rstrip('\\n').split(' ')\n",
    "        new_word = []\n",
    "        for i in words:\n",
    "            new_word.append(i[0])\n",
    "        new_sentence.append(''.join(new_word))\n",
    "print (' '.join(new_sentence))"
   ]
  },
  {
   "cell_type": "code",
   "execution_count": null,
   "metadata": {},
   "outputs": [],
   "source": []
  }
 ],
 "metadata": {
  "kernelspec": {
   "display_name": "Python 3",
   "language": "python",
   "name": "python3"
  },
  "language_info": {
   "codemirror_mode": {
    "name": "ipython",
    "version": 3
   },
   "file_extension": ".py",
   "mimetype": "text/x-python",
   "name": "python",
   "nbconvert_exporter": "python",
   "pygments_lexer": "ipython3",
   "version": "3.6.5"
  }
 },
 "nbformat": 4,
 "nbformat_minor": 2
}
