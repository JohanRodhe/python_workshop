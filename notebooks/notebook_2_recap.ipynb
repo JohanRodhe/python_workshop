{
 "cells": [
  {
   "cell_type": "markdown",
   "metadata": {},
   "source": [
    "# Recap of what you must have learned on Codecademy"
   ]
  },
  {
   "cell_type": "code",
   "execution_count": 1,
   "metadata": {},
   "outputs": [],
   "source": [
    "# Everything written after a '#' is ignored by Python"
   ]
  },
  {
   "cell_type": "code",
   "execution_count": 2,
   "metadata": {},
   "outputs": [],
   "source": [
    "# Creating variables\n",
    "\n",
    "x = 1       # int type (Integer)\n",
    "x = 1.0     # float type (Float)\n",
    "x = 'abc'   # str type (String)\n",
    "x = True    # bool type (Boolean)\n",
    "\n",
    "# Run this cells by pressing Shift+Enter"
   ]
  },
  {
   "cell_type": "code",
   "execution_count": 3,
   "metadata": {},
   "outputs": [
    {
     "name": "stdout",
     "output_type": "stream",
     "text": [
      "True\n"
     ]
    }
   ],
   "source": [
    "print (x) # Will print a latest value of x "
   ]
  },
  {
   "cell_type": "code",
   "execution_count": 4,
   "metadata": {},
   "outputs": [
    {
     "ename": "NameError",
     "evalue": "name 'X' is not defined",
     "output_type": "error",
     "traceback": [
      "\u001b[0;31m---------------------------------------------------------------------------\u001b[0m",
      "\u001b[0;31mNameError\u001b[0m                                 Traceback (most recent call last)",
      "\u001b[0;32m<ipython-input-4-7f282109d7ea>\u001b[0m in \u001b[0;36m<module>\u001b[0;34m\u001b[0m\n\u001b[1;32m      1\u001b[0m \u001b[0;31m# Python is case-sensitive\u001b[0m\u001b[0;34m\u001b[0m\u001b[0;34m\u001b[0m\u001b[0m\n\u001b[0;32m----> 2\u001b[0;31m \u001b[0mprint\u001b[0m \u001b[0;34m(\u001b[0m\u001b[0mX\u001b[0m\u001b[0;34m)\u001b[0m\u001b[0;34m\u001b[0m\u001b[0m\n\u001b[0m",
      "\u001b[0;31mNameError\u001b[0m: name 'X' is not defined"
     ]
    }
   ],
   "source": [
    "# Python is case-sensitive\n",
    "print (X)"
   ]
  },
  {
   "cell_type": "markdown",
   "metadata": {},
   "source": [
    "### Playing with Strings. Let's get that name right"
   ]
  },
  {
   "cell_type": "code",
   "execution_count": 5,
   "metadata": {},
   "outputs": [
    {
     "name": "stdout",
     "output_type": "stream",
     "text": [
      "JonSnow\n"
     ]
    }
   ],
   "source": [
    "name = 'Jon'             # Strings have to be wihtin single or double quotes.\n",
    "lastname = 'Snow'\n",
    "print (name + lastname)"
   ]
  },
  {
   "cell_type": "markdown",
   "metadata": {},
   "source": [
    "Many beginners face confusion about using or not using quotes. So some very basic tips:\n",
    "- Anything that you put under quotes becomes a string\n",
    "- Anything that is on left side of '=' should NOT have quotes\n",
    "- Anything that was ever on left side of '=' will never have quotes in future"
   ]
  },
  {
   "cell_type": "code",
   "execution_count": 6,
   "metadata": {},
   "outputs": [
    {
     "name": "stdout",
     "output_type": "stream",
     "text": [
      "Jon Snow\n"
     ]
    }
   ],
   "source": [
    "print (name + ' ' + lastname)"
   ]
  },
  {
   "cell_type": "code",
   "execution_count": 7,
   "metadata": {},
   "outputs": [
    {
     "name": "stdout",
     "output_type": "stream",
     "text": [
      "Jon_Snow\n"
     ]
    }
   ],
   "source": [
    "print (name + '_' + lastname)"
   ]
  },
  {
   "cell_type": "code",
   "execution_count": 8,
   "metadata": {},
   "outputs": [
    {
     "name": "stdout",
     "output_type": "stream",
     "text": [
      "Jon Snow\n"
     ]
    }
   ],
   "source": [
    "print (name.capitalize() + ' ' + lastname.capitalize())"
   ]
  },
  {
   "cell_type": "code",
   "execution_count": 9,
   "metadata": {},
   "outputs": [
    {
     "name": "stdout",
     "output_type": "stream",
     "text": [
      "Jon SNOW\n"
     ]
    }
   ],
   "source": [
    "print (name + ' ' + lastname.upper())"
   ]
  },
  {
   "cell_type": "code",
   "execution_count": 10,
   "metadata": {},
   "outputs": [
    {
     "name": "stdout",
     "output_type": "stream",
     "text": [
      "Nils Nilsson\n"
     ]
    }
   ],
   "source": [
    "# Overwriting variables is totatlly cool. But be careful when you do so.\n",
    "swe_name = 'Nils'\n",
    "swe_name = swe_name + ' ' + swe_name + 'son'\n",
    "print (swe_name)"
   ]
  },
  {
   "cell_type": "code",
   "execution_count": 11,
   "metadata": {},
   "outputs": [
    {
     "name": "stdout",
     "output_type": "stream",
     "text": [
      "Nils Nilsson\n"
     ]
    }
   ],
   "source": [
    "# A short hand for updating\n",
    "swe_name = 'Nils'\n",
    "swe_name += ' ' + swe_name + 'son'\n",
    "print (swe_name)"
   ]
  },
  {
   "cell_type": "markdown",
   "metadata": {},
   "source": [
    "### Don't be a DJ, don't mix types"
   ]
  },
  {
   "cell_type": "code",
   "execution_count": 12,
   "metadata": {},
   "outputs": [],
   "source": [
    "age = 25"
   ]
  },
  {
   "cell_type": "code",
   "execution_count": 13,
   "metadata": {},
   "outputs": [
    {
     "ename": "TypeError",
     "evalue": "must be str, not int",
     "output_type": "error",
     "traceback": [
      "\u001b[0;31m---------------------------------------------------------------------------\u001b[0m",
      "\u001b[0;31mTypeError\u001b[0m                                 Traceback (most recent call last)",
      "\u001b[0;32m<ipython-input-13-e5e9dfd83b11>\u001b[0m in \u001b[0;36m<module>\u001b[0;34m\u001b[0m\n\u001b[0;32m----> 1\u001b[0;31m \u001b[0mprint\u001b[0m \u001b[0;34m(\u001b[0m\u001b[0mname\u001b[0m \u001b[0;34m+\u001b[0m \u001b[0mage\u001b[0m\u001b[0;34m)\u001b[0m \u001b[0;31m# Disaster about to happen\u001b[0m\u001b[0;34m\u001b[0m\u001b[0m\n\u001b[0m",
      "\u001b[0;31mTypeError\u001b[0m: must be str, not int"
     ]
    }
   ],
   "source": [
    "print (name + age) # Disaster about to happen"
   ]
  },
  {
   "cell_type": "code",
   "execution_count": 14,
   "metadata": {},
   "outputs": [
    {
     "name": "stdout",
     "output_type": "stream",
     "text": [
      "Jon25\n"
     ]
    }
   ],
   "source": [
    "print (name + str(age))"
   ]
  },
  {
   "cell_type": "markdown",
   "metadata": {},
   "source": [
    "### Let numbers be numbers"
   ]
  },
  {
   "cell_type": "code",
   "execution_count": 15,
   "metadata": {},
   "outputs": [
    {
     "name": "stdout",
     "output_type": "stream",
     "text": [
      "2535\n"
     ]
    }
   ],
   "source": [
    "my_age = '25'\n",
    "your_age = '35'\n",
    "total_age = my_age + your_age\n",
    "print (total_age) # We get Nicolas Flamels' age"
   ]
  },
  {
   "cell_type": "code",
   "execution_count": 16,
   "metadata": {},
   "outputs": [
    {
     "name": "stdout",
     "output_type": "stream",
     "text": [
      "60\n"
     ]
    }
   ],
   "source": [
    "my_age = 25\n",
    "your_age = 35\n",
    "total_age = my_age + your_age\n",
    "print (total_age) # Our combined age"
   ]
  },
  {
   "cell_type": "code",
   "execution_count": 17,
   "metadata": {},
   "outputs": [
    {
     "name": "stdout",
     "output_type": "stream",
     "text": [
      "60\n"
     ]
    }
   ],
   "source": [
    "# Explicit type conversion might seem like a lot of work but it's more often than not a good idea.\n",
    "\n",
    "my_age = '25'\n",
    "your_age = '35'\n",
    "total_age = int(my_age) + int(your_age) # Convert datatype\n",
    "print (total_age) # Our combined age"
   ]
  },
  {
   "cell_type": "markdown",
   "metadata": {},
   "source": [
    "### Some maths can go a long way"
   ]
  },
  {
   "cell_type": "code",
   "execution_count": 18,
   "metadata": {},
   "outputs": [
    {
     "name": "stdout",
     "output_type": "stream",
     "text": [
      "13\n",
      "7\n",
      "30\n",
      "3.3333333333333335\n",
      "3\n",
      "1000\n",
      "1\n",
      "9\n"
     ]
    }
   ],
   "source": [
    "print (10 + 3)\n",
    "print (10 - 3)\n",
    "print (10 * 3)\n",
    "print (10 / 3)\n",
    "print (10 // 3)    # Double division?\n",
    "print (10 ** 3)    # Double multiplication?\n",
    "print (10 % 3)     # What is that percentage sign doing there? Its called Modulus by the way\n",
    "print (10 ^ 3)     # I didnt know about this one until writing this tutorial"
   ]
  },
  {
   "cell_type": "code",
   "execution_count": 19,
   "metadata": {},
   "outputs": [
    {
     "name": "stdout",
     "output_type": "stream",
     "text": [
      "0\n",
      "1\n",
      "0\n",
      "1\n"
     ]
    }
   ],
   "source": [
    "# Odd-even with modulus\n",
    "print (4%2)\n",
    "print (5%2)\n",
    "print (12%2)\n",
    "print (19%2)"
   ]
  },
  {
   "cell_type": "code",
   "execution_count": 20,
   "metadata": {},
   "outputs": [
    {
     "name": "stdout",
     "output_type": "stream",
     "text": [
      "1000000000.0\n"
     ]
    }
   ],
   "source": [
    "# Nice to have zeros in bank account but keep it simple in Python\n",
    "\n",
    "x = 1000000000 # Impossible to keep track of zeros. \n",
    "x = 1e9        # Thats a floating billion\n",
    "print (x)"
   ]
  },
  {
   "cell_type": "markdown",
   "metadata": {},
   "source": [
    "### Let's get that logic straight"
   ]
  },
  {
   "cell_type": "code",
   "execution_count": 21,
   "metadata": {},
   "outputs": [
    {
     "name": "stdout",
     "output_type": "stream",
     "text": [
      "False\n",
      "True\n",
      "False\n",
      "True\n",
      "False\n"
     ]
    }
   ],
   "source": [
    "print (True and False)\n",
    "print (True or False)\n",
    "print (True & False)\n",
    "print (True | False)\n",
    "print (not True)"
   ]
  },
  {
   "cell_type": "code",
   "execution_count": 22,
   "metadata": {},
   "outputs": [
    {
     "name": "stdout",
     "output_type": "stream",
     "text": [
      "False\n",
      "True\n",
      "False\n",
      "True\n",
      "False\n",
      "True\n",
      "True\n"
     ]
    }
   ],
   "source": [
    "print (1 == 2)\n",
    "print (1 != 2)\n",
    "print (1 > 2)\n",
    "print (1 < 2)\n",
    "print (2 > 2)\n",
    "print (2 >= 2)\n",
    "print (2 <= 2)"
   ]
  },
  {
   "cell_type": "markdown",
   "metadata": {},
   "source": [
    "### Introducing lists"
   ]
  },
  {
   "cell_type": "code",
   "execution_count": 23,
   "metadata": {},
   "outputs": [
    {
     "name": "stdout",
     "output_type": "stream",
     "text": [
      "['obara', 'nymeria', 'tyene']\n"
     ]
    }
   ],
   "source": [
    "# Real data ever is just one value, one name, one gene.\n",
    "# It is usually a many of them and then you need to keep you data together\n",
    "\n",
    "sand1 = 'obara'\n",
    "sand2 = 'nymeria'\n",
    "sand3 = 'tyene'\n",
    "sand_snakes = [sand1, sand2, sand3]\n",
    "print (sand_snakes)"
   ]
  },
  {
   "cell_type": "code",
   "execution_count": 24,
   "metadata": {},
   "outputs": [
    {
     "name": "stdout",
     "output_type": "stream",
     "text": [
      "['obara', 'nymeria', 'tyene']\n"
     ]
    }
   ],
   "source": [
    "sand_snakes = ['obara', 'nymeria', 'tyene']\n",
    "print (sand_snakes)"
   ]
  },
  {
   "cell_type": "code",
   "execution_count": 25,
   "metadata": {},
   "outputs": [
    {
     "name": "stdout",
     "output_type": "stream",
     "text": [
      "['obara', 'nymeria', 'tyene']\n"
     ]
    }
   ],
   "source": [
    "sand_snakes = []              # Square brackets to define empty list\n",
    "sand_snakes.append('obara')   \n",
    "sand_snakes.append('nymeria')\n",
    "sand_snakes.append('tyene')\n",
    "print (sand_snakes)"
   ]
  },
  {
   "cell_type": "code",
   "execution_count": 26,
   "metadata": {},
   "outputs": [
    {
     "data": {
      "text/plain": [
       "3"
      ]
     },
     "execution_count": 26,
     "metadata": {},
     "output_type": "execute_result"
    }
   ],
   "source": [
    "# Retreive number of elements in the list\n",
    "len(sand_snakes)"
   ]
  },
  {
   "cell_type": "code",
   "execution_count": 27,
   "metadata": {},
   "outputs": [
    {
     "name": "stdout",
     "output_type": "stream",
     "text": [
      "['dario', 'mero', 'prendahl', 'obara', 'nymeria', 'tyene']\n"
     ]
    }
   ],
   "source": [
    "# Merging two lists\n",
    "warriors = ['dario', 'mero', 'prendahl'] \n",
    "print (warriors + sand_snakes)"
   ]
  },
  {
   "cell_type": "code",
   "execution_count": 28,
   "metadata": {},
   "outputs": [
    {
     "name": "stdout",
     "output_type": "stream",
     "text": [
      "['dario', 'mero', 'prendahl']\n"
     ]
    }
   ],
   "source": [
    "print (warriors)"
   ]
  },
  {
   "cell_type": "code",
   "execution_count": 29,
   "metadata": {},
   "outputs": [
    {
     "name": "stdout",
     "output_type": "stream",
     "text": [
      "['dario', 'mero', 'prendahl', ['obara', 'nymeria', 'tyene']]\n",
      "4\n"
     ]
    }
   ],
   "source": [
    "warriors.append(sand_snakes)\n",
    "print (warriors)\n",
    "print (len(warriors))"
   ]
  },
  {
   "cell_type": "code",
   "execution_count": 30,
   "metadata": {},
   "outputs": [
    {
     "name": "stdout",
     "output_type": "stream",
     "text": [
      "['dario', 'mero', 'prendahl', 'obara', 'nymeria', 'tyene']\n",
      "6\n"
     ]
    }
   ],
   "source": [
    "warriors = ['dario', 'mero', 'prendahl']\n",
    "warriors.extend(sand_snakes)\n",
    "print (warriors)\n",
    "print (len(warriors))"
   ]
  },
  {
   "cell_type": "code",
   "execution_count": 31,
   "metadata": {},
   "outputs": [
    {
     "name": "stdout",
     "output_type": "stream",
     "text": [
      "dario\n",
      "nymeria\n",
      "tyene\n",
      "tyene\n"
     ]
    }
   ],
   "source": [
    "# Indexing\n",
    "print (warriors[0])\n",
    "print (warriors[4])\n",
    "print (warriors[5])\n",
    "print (warriors[-1])"
   ]
  },
  {
   "cell_type": "code",
   "execution_count": 32,
   "metadata": {},
   "outputs": [
    {
     "name": "stdout",
     "output_type": "stream",
     "text": [
      "['o', 'n', 'e', 'b', 'i', 'g', 'n', 'a', 'm', 'e']\n"
     ]
    }
   ],
   "source": [
    "# Datatype conversion into list\n",
    "print (list('onebigname'))"
   ]
  },
  {
   "cell_type": "code",
   "execution_count": 33,
   "metadata": {},
   "outputs": [
    {
     "name": "stdout",
     "output_type": "stream",
     "text": [
      "[('obara', 'spear'), ('nymeria', 'whip'), ('tyene', 'dagger')]\n",
      "('obara', 'spear')\n",
      "obara\n"
     ]
    }
   ],
   "source": [
    "# pairing lists with zip\n",
    "weapons = ['spear', 'whip', 'dagger']\n",
    "sand_weapons = list( zip(sand_snakes, weapons) )\n",
    "print (sand_weapons)\n",
    "print (sand_weapons[0])\n",
    "print (sand_weapons[0][0])"
   ]
  },
  {
   "cell_type": "code",
   "execution_count": 34,
   "metadata": {},
   "outputs": [
    {
     "name": "stdout",
     "output_type": "stream",
     "text": [
      "True\n",
      "False\n"
     ]
    }
   ],
   "source": [
    "print ('spear' in weapons)\n",
    "print ('bow' in weapons)"
   ]
  },
  {
   "cell_type": "markdown",
   "metadata": {},
   "source": [
    "### Flow control"
   ]
  },
  {
   "cell_type": "code",
   "execution_count": 35,
   "metadata": {},
   "outputs": [
    {
     "name": "stdout",
     "output_type": "stream",
     "text": [
      "Is true\n"
     ]
    }
   ],
   "source": [
    "if True:\n",
    "    print ('Is true') # See that space before print it tells that this line is under if block"
   ]
  },
  {
   "cell_type": "code",
   "execution_count": 36,
   "metadata": {},
   "outputs": [
    {
     "ename": "IndentationError",
     "evalue": "expected an indented block (<ipython-input-36-6fc9edc7c35a>, line 2)",
     "output_type": "error",
     "traceback": [
      "\u001b[0;36m  File \u001b[0;32m\"<ipython-input-36-6fc9edc7c35a>\"\u001b[0;36m, line \u001b[0;32m2\u001b[0m\n\u001b[0;31m    print ('Is true')     # Tab before print is missing\u001b[0m\n\u001b[0m        ^\u001b[0m\n\u001b[0;31mIndentationError\u001b[0m\u001b[0;31m:\u001b[0m expected an indented block\n"
     ]
    }
   ],
   "source": [
    "if True:\n",
    "print ('Is true')     # Tab before print is missing"
   ]
  },
  {
   "cell_type": "code",
   "execution_count": 37,
   "metadata": {},
   "outputs": [
    {
     "ename": "SyntaxError",
     "evalue": "invalid syntax (<ipython-input-37-2c2789c6e5f5>, line 1)",
     "output_type": "error",
     "traceback": [
      "\u001b[0;36m  File \u001b[0;32m\"<ipython-input-37-2c2789c6e5f5>\"\u001b[0;36m, line \u001b[0;32m1\u001b[0m\n\u001b[0;31m    if True                 # Colon missing\u001b[0m\n\u001b[0m                                           ^\u001b[0m\n\u001b[0;31mSyntaxError\u001b[0m\u001b[0;31m:\u001b[0m invalid syntax\n"
     ]
    }
   ],
   "source": [
    "if True                 # Colon missing\n",
    "    print ('Is true')"
   ]
  },
  {
   "cell_type": "code",
   "execution_count": 38,
   "metadata": {},
   "outputs": [
    {
     "name": "stdout",
     "output_type": "stream",
     "text": [
      "Is True\n"
     ]
    }
   ],
   "source": [
    "if 3 > 2:\n",
    "    print ('Is True')"
   ]
  },
  {
   "cell_type": "code",
   "execution_count": 39,
   "metadata": {},
   "outputs": [],
   "source": [
    "if False:\n",
    "    print ('Is True')"
   ]
  },
  {
   "cell_type": "code",
   "execution_count": 40,
   "metadata": {},
   "outputs": [
    {
     "name": "stdout",
     "output_type": "stream",
     "text": [
      "Breathe fire\n"
     ]
    }
   ],
   "source": [
    "animal = 'dragon'\n",
    "if animal == 'dragon':\n",
    "    print ('Breathe fire')"
   ]
  },
  {
   "cell_type": "code",
   "execution_count": 41,
   "metadata": {},
   "outputs": [
    {
     "name": "stdout",
     "output_type": "stream",
     "text": [
      "got it\n"
     ]
    }
   ],
   "source": [
    "if 'spear' in weapons:\n",
    "    print ('got it')"
   ]
  },
  {
   "cell_type": "code",
   "execution_count": 42,
   "metadata": {},
   "outputs": [],
   "source": [
    "if 'bow' in weapons:\n",
    "    print ('got it')"
   ]
  },
  {
   "cell_type": "code",
   "execution_count": 43,
   "metadata": {},
   "outputs": [
    {
     "name": "stdout",
     "output_type": "stream",
     "text": [
      "is True\n"
     ]
    }
   ],
   "source": [
    "if 1==2 or 5>4:\n",
    "    print ('is True')"
   ]
  },
  {
   "cell_type": "code",
   "execution_count": 44,
   "metadata": {},
   "outputs": [
    {
     "name": "stdout",
     "output_type": "stream",
     "text": [
      "Attack!\n"
     ]
    }
   ],
   "source": [
    "if 'spear' in weapons:\n",
    "    print ('Attack!')\n",
    "else:\n",
    "    print ('Run!')"
   ]
  },
  {
   "cell_type": "code",
   "execution_count": 45,
   "metadata": {},
   "outputs": [
    {
     "name": "stdout",
     "output_type": "stream",
     "text": [
      "Run!\n"
     ]
    }
   ],
   "source": [
    "if 'bow' in weapons:\n",
    "    print ('Attack!')\n",
    "else:\n",
    "    print ('Run!')"
   ]
  },
  {
   "cell_type": "code",
   "execution_count": 46,
   "metadata": {},
   "outputs": [
    {
     "name": "stdout",
     "output_type": "stream",
     "text": [
      "Attack anyway\n"
     ]
    }
   ],
   "source": [
    "if 'bow' in weapons:\n",
    "    print ('Attack!')\n",
    "elif len(weapons) > 0:\n",
    "    print ('Attack anyway')\n",
    "else:\n",
    "    print ('Run!')"
   ]
  },
  {
   "cell_type": "markdown",
   "metadata": {},
   "source": [
    "## Functions make your code reusable"
   ]
  },
  {
   "cell_type": "code",
   "execution_count": 47,
   "metadata": {},
   "outputs": [
    {
     "name": "stdout",
     "output_type": "stream",
     "text": [
      "Im useless\n"
     ]
    }
   ],
   "source": [
    "def useless_function(): # Watch the 'def' keyword and ':' very carefully\n",
    "    print ('Im useless')\n",
    "    \n",
    "useless_function()"
   ]
  },
  {
   "cell_type": "code",
   "execution_count": 48,
   "metadata": {},
   "outputs": [
    {
     "name": "stdout",
     "output_type": "stream",
     "text": [
      "Im useless\n",
      "No one is useless\n",
      "The universe is useless\n"
     ]
    }
   ],
   "source": [
    "def less_useless_function(whois): # This function takes a positional argument\n",
    "    print (whois + ' useless')\n",
    "    \n",
    "less_useless_function('Im')\n",
    "less_useless_function('No one is')\n",
    "less_useless_function(whois='The universe is')"
   ]
  },
  {
   "cell_type": "code",
   "execution_count": 49,
   "metadata": {},
   "outputs": [
    {
     "ename": "TypeError",
     "evalue": "less_useless_function() missing 1 required positional argument: 'whois'",
     "output_type": "error",
     "traceback": [
      "\u001b[0;31m---------------------------------------------------------------------------\u001b[0m",
      "\u001b[0;31mTypeError\u001b[0m                                 Traceback (most recent call last)",
      "\u001b[0;32m<ipython-input-49-f2fd58b1f6f0>\u001b[0m in \u001b[0;36m<module>\u001b[0;34m\u001b[0m\n\u001b[0;32m----> 1\u001b[0;31m \u001b[0mless_useless_function\u001b[0m\u001b[0;34m(\u001b[0m\u001b[0;34m)\u001b[0m\u001b[0;34m\u001b[0m\u001b[0m\n\u001b[0m",
      "\u001b[0;31mTypeError\u001b[0m: less_useless_function() missing 1 required positional argument: 'whois'"
     ]
    }
   ],
   "source": [
    "less_useless_function()"
   ]
  },
  {
   "cell_type": "code",
   "execution_count": 50,
   "metadata": {},
   "outputs": [
    {
     "name": "stdout",
     "output_type": "stream",
     "text": [
      "Im useless\n",
      "No one is useless\n"
     ]
    }
   ],
   "source": [
    "def function(whois='Im'):  # default value for argument\n",
    "    print (whois + ' useless')\n",
    "    \n",
    "function()\n",
    "function('No one is') # Overriding default value"
   ]
  },
  {
   "cell_type": "code",
   "execution_count": 51,
   "metadata": {},
   "outputs": [
    {
     "name": "stdout",
     "output_type": "stream",
     "text": [
      "30\n",
      "100\n"
     ]
    }
   ],
   "source": [
    "def add_values(a, b):\n",
    "    print (a + b)\n",
    "    \n",
    "add_values(10, 20)\n",
    "add_values(15, 85)"
   ]
  },
  {
   "cell_type": "code",
   "execution_count": 52,
   "metadata": {},
   "outputs": [
    {
     "name": "stdout",
     "output_type": "stream",
     "text": [
      "17\n",
      "8\n",
      "80\n"
     ]
    }
   ],
   "source": [
    "def add_values(a, b=10):\n",
    "    print (a + b)\n",
    "    \n",
    "add_values(7)\n",
    "add_values(7, 1)\n",
    "add_values(a=30, b=50)"
   ]
  },
  {
   "cell_type": "code",
   "execution_count": 53,
   "metadata": {},
   "outputs": [
    {
     "ename": "TypeError",
     "evalue": "add_values() missing 1 required positional argument: 'a'",
     "output_type": "error",
     "traceback": [
      "\u001b[0;31m---------------------------------------------------------------------------\u001b[0m",
      "\u001b[0;31mTypeError\u001b[0m                                 Traceback (most recent call last)",
      "\u001b[0;32m<ipython-input-53-9797d91fafc1>\u001b[0m in \u001b[0;36m<module>\u001b[0;34m\u001b[0m\n\u001b[0;32m----> 1\u001b[0;31m \u001b[0madd_values\u001b[0m\u001b[0;34m(\u001b[0m\u001b[0mb\u001b[0m\u001b[0;34m=\u001b[0m\u001b[0;36m50\u001b[0m\u001b[0;34m)\u001b[0m\u001b[0;34m\u001b[0m\u001b[0m\n\u001b[0m",
      "\u001b[0;31mTypeError\u001b[0m: add_values() missing 1 required positional argument: 'a'"
     ]
    }
   ],
   "source": [
    "add_values(b=50)"
   ]
  },
  {
   "cell_type": "code",
   "execution_count": 54,
   "metadata": {},
   "outputs": [
    {
     "ename": "SyntaxError",
     "evalue": "non-default argument follows default argument (<ipython-input-54-d005805c6e06>, line 1)",
     "output_type": "error",
     "traceback": [
      "\u001b[0;36m  File \u001b[0;32m\"<ipython-input-54-d005805c6e06>\"\u001b[0;36m, line \u001b[0;32m1\u001b[0m\n\u001b[0;31m    def add_values(a=10, b): # Default valued arguments cannot be defined before positional arguments\u001b[0m\n\u001b[0m                  ^\u001b[0m\n\u001b[0;31mSyntaxError\u001b[0m\u001b[0;31m:\u001b[0m non-default argument follows default argument\n"
     ]
    }
   ],
   "source": [
    "def add_values(a=10, b): # Default valued arguments cannot be defined before positional arguments\n",
    "    print (a + b)"
   ]
  },
  {
   "cell_type": "code",
   "execution_count": 55,
   "metadata": {},
   "outputs": [],
   "source": [
    "def is_even(num):\n",
    "    if num % 2 == 0:\n",
    "        print ('yes')\n",
    "    else:\n",
    "        print ('no')"
   ]
  },
  {
   "cell_type": "code",
   "execution_count": 56,
   "metadata": {},
   "outputs": [
    {
     "name": "stdout",
     "output_type": "stream",
     "text": [
      "yes\n",
      "yes\n",
      "no\n",
      "no\n"
     ]
    }
   ],
   "source": [
    "is_even(12)\n",
    "is_even(6)\n",
    "is_even(7)\n",
    "is_even(9)"
   ]
  },
  {
   "cell_type": "markdown",
   "metadata": {},
   "source": [
    "### Functions would ideally return some values. It helps with chaining functions as well"
   ]
  },
  {
   "cell_type": "code",
   "execution_count": 57,
   "metadata": {},
   "outputs": [
    {
     "name": "stdout",
     "output_type": "stream",
     "text": [
      "True\n"
     ]
    }
   ],
   "source": [
    "def is_even(num):\n",
    "    if num % 2 == 0:\n",
    "        return True\n",
    "    else:\n",
    "        return False\n",
    "\n",
    "print (is_even(12))"
   ]
  },
  {
   "cell_type": "code",
   "execution_count": 58,
   "metadata": {},
   "outputs": [],
   "source": [
    "def nice_talker(value):\n",
    "    if value is True:\n",
    "        print ('Yes it is. Awesome!')\n",
    "    else:\n",
    "        print ('Oh, Im sorry! It is not.')\n",
    "        \n",
    "def trash_talker(value):\n",
    "    if value is True:\n",
    "        print ('So what if it is!')\n",
    "    else:\n",
    "        print ('Hah! Told ya it was not!')"
   ]
  },
  {
   "cell_type": "code",
   "execution_count": 59,
   "metadata": {},
   "outputs": [
    {
     "name": "stdout",
     "output_type": "stream",
     "text": [
      "Yes it is. Awesome!\n",
      "Oh, Im sorry! It is not.\n"
     ]
    }
   ],
   "source": [
    "nice_talker(is_even(12))\n",
    "nice_talker(is_even(7))"
   ]
  },
  {
   "cell_type": "code",
   "execution_count": 60,
   "metadata": {},
   "outputs": [
    {
     "name": "stdout",
     "output_type": "stream",
     "text": [
      "So what if it is!\n",
      "Hah! Told ya it was not!\n"
     ]
    }
   ],
   "source": [
    "trash_talker(is_even(12))\n",
    "trash_talker(is_even(7))"
   ]
  },
  {
   "cell_type": "code",
   "execution_count": null,
   "metadata": {},
   "outputs": [],
   "source": []
  },
  {
   "cell_type": "code",
   "execution_count": null,
   "metadata": {},
   "outputs": [],
   "source": []
  }
 ],
 "metadata": {
  "kernelspec": {
   "display_name": "Python 3",
   "language": "python",
   "name": "python3"
  },
  "language_info": {
   "codemirror_mode": {
    "name": "ipython",
    "version": 3
   },
   "file_extension": ".py",
   "mimetype": "text/x-python",
   "name": "python",
   "nbconvert_exporter": "python",
   "pygments_lexer": "ipython3",
   "version": "3.6.5"
  }
 },
 "nbformat": 4,
 "nbformat_minor": 2
}
