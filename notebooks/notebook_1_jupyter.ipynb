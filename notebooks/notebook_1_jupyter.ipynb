{
 "cells": [
  {
   "cell_type": "markdown",
   "metadata": {},
   "source": [
    "# Introducing Jupyter notebooks\n",
    "\n",
    "#### We will begin by first introducing ourselves to Jupyter notebooks.\n",
    "#### Jupyter notebooks provide an environment to perform interactive Python programming.\n",
    "#### Traditionally people used to write Python code in a text editor and launch that code from terminal like this `python code.py`.\n",
    "#### This is great when you know exactly what you want to do and you know how to do it. But for us, the data explorers, this is not always the case. We have huge files to read and we want to read them only once and keep playing with data. Scenarios like these make Jupyter notebooks a perfect tool.\n",
    "#### They are called notebooks because all you code, figures and documentation can exist in the same document\n",
    "\n",
    "## How to run jupyter notebooks\n",
    "\n",
    "#### Let's assume that you have already installed Anaconda, as you should have.\n",
    "#### If you are on Windows, click on Start menu and start typing 'anaconda'. You will see 'Anaconda Prompt'. Click on it and it will open a new console window. On this window type 'jupyter notebook' and your notebook server will launch.\n",
    "#### If you are on Linux or MacOS then simply open your terminal and type 'jupyter notebook'\n",
    "#### A new tab should automatically open on you browser when you the server is launch.\n",
    "\n",
    "\n",
    "### By end of this session you would know:\n",
    "- How to launch a jupyter notebook server from any directory of you choice.\n",
    "- Navigating directory in the notebook interface\n",
    "- Open existing and launch new Python 3 notebook\n",
    "- Know how to create new cells and execute codes within cells\n",
    "- Be familiar with moving and deleting cells\n",
    "- Write markdown text in cells\n",
    "- Stop and reload a notebook\n",
    "\n",
    "### Advanced stuff for brave\n",
    "- Try learning how to install notebook extensions\n",
    "- Install and luanch Jupyter lab, the future of Jupyter notebook\n",
    "- Mac/Linux users: Run terminal commands from within notebook"
   ]
  },
  {
   "cell_type": "code",
   "execution_count": null,
   "metadata": {},
   "outputs": [],
   "source": []
  }
 ],
 "metadata": {
  "kernelspec": {
   "display_name": "Python 3",
   "language": "python",
   "name": "python3"
  },
  "language_info": {
   "codemirror_mode": {
    "name": "ipython",
    "version": 3
   },
   "file_extension": ".py",
   "mimetype": "text/x-python",
   "name": "python",
   "nbconvert_exporter": "python",
   "pygments_lexer": "ipython3",
   "version": "3.6.5"
  }
 },
 "nbformat": 4,
 "nbformat_minor": 2
}
